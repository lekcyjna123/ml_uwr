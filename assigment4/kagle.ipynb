{
 "cells": [
  {
   "cell_type": "code",
   "execution_count": 1,
   "metadata": {},
   "outputs": [],
   "source": [
    "import sklearn.covariance as skCov\n",
    "import numpy as np\n",
    "import matplotlib.pyplot as plt\n",
    "import pandas as pd"
   ]
  },
  {
   "cell_type": "code",
   "execution_count": 2,
   "metadata": {},
   "outputs": [],
   "source": [
    "np.set_printoptions(precision=4, suppress=True, linewidth=110)"
   ]
  },
  {
   "cell_type": "markdown",
   "metadata": {},
   "source": [
    "# Z danych jest usuwana 83 kolumna, ponieważ zawiera same zera"
   ]
  },
  {
   "cell_type": "code",
   "execution_count": 105,
   "metadata": {},
   "outputs": [],
   "source": [
    "dane=pd.read_csv(\"./public_data.csv\")"
   ]
  },
  {
   "cell_type": "code",
   "execution_count": 106,
   "metadata": {},
   "outputs": [],
   "source": [
    "dane=dane.values"
   ]
  },
  {
   "cell_type": "code",
   "execution_count": 107,
   "metadata": {},
   "outputs": [],
   "source": [
    "for i in range(34,73):\n",
    "    for j in range(1021):\n",
    "        napis=dane[j,i]\n",
    "        dane[j,i]=napis[1:]"
   ]
  },
  {
   "cell_type": "code",
   "execution_count": 108,
   "metadata": {},
   "outputs": [],
   "source": [
    "dane=np.asarray(dane, dtype=np.float64)"
   ]
  },
  {
   "cell_type": "code",
   "execution_count": 109,
   "metadata": {},
   "outputs": [],
   "source": [
    "dane=np.hstack((dane[:,:83],dane[:,84:]))"
   ]
  },
  {
   "cell_type": "markdown",
   "metadata": {},
   "source": [
    "# Automatyczne lasso grafowe"
   ]
  },
  {
   "cell_type": "code",
   "execution_count": 12,
   "metadata": {},
   "outputs": [],
   "source": [
    "model=skCov.GraphicalLassoCV()\n",
    "\n",
    "model.fit(dane)"
   ]
  },
  {
   "cell_type": "code",
   "execution_count": 14,
   "metadata": {},
   "outputs": [
    {
     "data": {
      "text/plain": [
       "array([[18.2585, -0.4012,  1.3151, ...,  0.2295,  0.3357,  0.124 ],\n",
       "       [-0.4012, 52.1632, -2.2976, ..., -0.025 ,  1.5454,  1.283 ],\n",
       "       [ 1.3151, -2.2976, 50.2341, ..., -0.7924,  0.6276,  0.076 ],\n",
       "       ...,\n",
       "       [ 0.2295, -0.025 , -0.7924, ...,  6.4569,  0.2901, -0.049 ],\n",
       "       [ 0.3357,  1.5454,  0.6276, ...,  0.2901,  9.4354, -2.4689],\n",
       "       [ 0.124 ,  1.283 ,  0.076 , ..., -0.049 , -2.4689,  7.9757]])"
      ]
     },
     "execution_count": 14,
     "metadata": {},
     "output_type": "execute_result"
    }
   ],
   "source": [
    "model.precision_"
   ]
  },
  {
   "cell_type": "markdown",
   "metadata": {},
   "source": [
    "# Wyliczanie macierzy kowariancji"
   ]
  },
  {
   "cell_type": "code",
   "execution_count": 15,
   "metadata": {},
   "outputs": [],
   "source": [
    "macierzKor=np.corrcoef(dane, rowvar=False)"
   ]
  },
  {
   "cell_type": "code",
   "execution_count": 16,
   "metadata": {},
   "outputs": [
    {
     "data": {
      "text/plain": [
       "(93, 93)"
      ]
     },
     "execution_count": 16,
     "metadata": {},
     "output_type": "execute_result"
    }
   ],
   "source": [
    "macierzKor.shape"
   ]
  },
  {
   "cell_type": "code",
   "execution_count": 17,
   "metadata": {},
   "outputs": [
    {
     "data": {
      "text/plain": [
       "array([[ 1.    ,  0.0006, -0.0551, ..., -0.0029, -0.008 ,  0.0035],\n",
       "       [ 0.0006,  1.    ,  0.0773, ..., -0.0051, -0.0808, -0.0759],\n",
       "       [-0.0551,  0.0773,  1.    , ...,  0.0453, -0.0364, -0.0294],\n",
       "       ...,\n",
       "       [-0.0029, -0.0051,  0.0453, ...,  1.    , -0.0229,  0.0061],\n",
       "       [-0.008 , -0.0808, -0.0364, ..., -0.0229,  1.    ,  0.4351],\n",
       "       [ 0.0035, -0.0759, -0.0294, ...,  0.0061,  0.4351,  1.    ]])"
      ]
     },
     "execution_count": 17,
     "metadata": {},
     "output_type": "execute_result"
    }
   ],
   "source": [
    "macierzKor"
   ]
  },
  {
   "cell_type": "code",
   "execution_count": 18,
   "metadata": {},
   "outputs": [
    {
     "data": {
      "text/plain": [
       "False"
      ]
     },
     "execution_count": 18,
     "metadata": {},
     "output_type": "execute_result"
    }
   ],
   "source": [
    "np.any(np.isinf(macierzKor))"
   ]
  },
  {
   "cell_type": "code",
   "execution_count": 61,
   "metadata": {},
   "outputs": [],
   "source": [
    "kow,prec=skCov.graphical_lasso(macierzKor,0.0088)"
   ]
  },
  {
   "cell_type": "code",
   "execution_count": 62,
   "metadata": {},
   "outputs": [
    {
     "data": {
      "text/plain": [
       "71"
      ]
     },
     "execution_count": 62,
     "metadata": {},
     "output_type": "execute_result"
    }
   ],
   "source": [
    "np.sum(np.asarray(np.abs(prec[0,:]), dtype=bool))"
   ]
  },
  {
   "cell_type": "code",
   "execution_count": 63,
   "metadata": {},
   "outputs": [
    {
     "data": {
      "text/plain": [
       "array([ 1.3644, -0.0022,  0.0432,  0.    ,  0.0665,  0.0775,  0.    ,  0.    ,  0.0302,  0.0303,  0.    ,\n",
       "        0.0649, -0.0027, -0.0016,  0.    ,  0.0149,  0.0234, -0.0559, -0.0105,  0.0142, -0.    ,  0.    ,\n",
       "       -0.6072, -0.0553, -0.1059, -0.0038, -0.0372,  0.0146,  0.    , -0.    ,  0.0649,  0.0715, -0.0017,\n",
       "       -0.0416, -0.0248, -0.0048, -0.0881,  0.0358, -0.    ,  0.0889,  0.0191,  0.0068,  0.0037,  0.    ,\n",
       "       -0.0103, -0.0217,  0.    , -0.0104, -0.0212, -0.    , -0.014 , -0.    ,  0.0068, -0.0945,  0.0309,\n",
       "       -0.0591, -0.0066,  0.    ,  0.0242,  0.0344, -0.0241,  0.031 , -0.    ,  0.    , -0.0044,  0.    ,\n",
       "       -0.    ,  0.0057, -0.0152,  0.0283,  0.055 , -0.0019, -0.0621,  0.0038, -0.    , -0.0316,  0.0155,\n",
       "        0.0273, -0.0093,  0.0491,  0.003 , -0.0207, -0.    , -0.0141, -0.0296, -0.0554, -0.013 , -0.0162,\n",
       "        0.0012,  0.0349,  0.0001,  0.0268,  0.    ])"
      ]
     },
     "execution_count": 63,
     "metadata": {},
     "output_type": "execute_result"
    }
   ],
   "source": [
    "prec[0,:]"
   ]
  },
  {
   "cell_type": "code",
   "execution_count": 64,
   "metadata": {},
   "outputs": [
    {
     "data": {
      "text/plain": [
       "[-0.0022326426413428525,\n",
       " 0.0432296172848803,\n",
       " 0.0664667980997257,\n",
       " 0.07752383184222376,\n",
       " 0.030195098764351003,\n",
       " 0.0302713239005269,\n",
       " 0.06486761144392382,\n",
       " -0.0026660810358280465,\n",
       " -0.0015618718760657048,\n",
       " 0.014851003429041438,\n",
       " 0.02343628398799031,\n",
       " -0.055896583194405165,\n",
       " -0.010455848953522886,\n",
       " 0.014233409416716506,\n",
       " -0.6072192987866816,\n",
       " -0.05527842459586343,\n",
       " -0.10588251343688743,\n",
       " -0.003751218060853808,\n",
       " -0.037200697705337675,\n",
       " 0.014604783088812438,\n",
       " 0.06490819922588205,\n",
       " 0.07148932960336309,\n",
       " -0.0016928811354887327,\n",
       " -0.04156776125604818,\n",
       " -0.024823190054253572,\n",
       " -0.00481268137777883,\n",
       " -0.08810349046767482,\n",
       " 0.03580685726171033,\n",
       " 0.08894404785017769,\n",
       " 0.019079106218655432,\n",
       " 0.006775227738090055,\n",
       " 0.0037410239396589965,\n",
       " -0.010288195821774848,\n",
       " -0.02171809690186788,\n",
       " -0.010394700006148935,\n",
       " -0.021160426632687523,\n",
       " -0.01397499573630459,\n",
       " 0.006833652861743716,\n",
       " -0.09452771961307692,\n",
       " 0.03086923269503864,\n",
       " -0.059121465474753665,\n",
       " -0.0066018899293774904,\n",
       " 0.024227123903720837,\n",
       " 0.034449558357431055,\n",
       " -0.024085861247379832,\n",
       " 0.0309606760763063,\n",
       " -0.004425300400690525,\n",
       " 0.005681304062450829,\n",
       " -0.01520508533036932,\n",
       " 0.028291214780728987,\n",
       " 0.05496507621581392,\n",
       " -0.0019133239562438233,\n",
       " -0.06208849792443746,\n",
       " 0.003840841918062766,\n",
       " -0.031599773975804206,\n",
       " 0.015473138927961929,\n",
       " 0.027327328879230117,\n",
       " -0.009256932341633283,\n",
       " 0.04912085314639926,\n",
       " 0.0029943625806399285,\n",
       " -0.02069667736691299,\n",
       " -0.014104388527772405,\n",
       " -0.02959754187130369,\n",
       " -0.05539650764576014,\n",
       " -0.01297567006475903,\n",
       " -0.016213486754563303,\n",
       " 0.0012267655734738625,\n",
       " 0.03493681134586075,\n",
       " 0.00012032874749981544,\n",
       " 0.026845269629457245]"
      ]
     },
     "execution_count": 64,
     "metadata": {},
     "output_type": "execute_result"
    }
   ],
   "source": [
    "wartosci=list(prec[0,:][np.asarray(np.abs(prec[0,:]), dtype=bool)])[1:]\n",
    "wartosci"
   ]
  },
  {
   "cell_type": "code",
   "execution_count": 65,
   "metadata": {},
   "outputs": [
    {
     "data": {
      "text/plain": [
       "[1,\n",
       " 2,\n",
       " 4,\n",
       " 5,\n",
       " 8,\n",
       " 9,\n",
       " 11,\n",
       " 12,\n",
       " 13,\n",
       " 15,\n",
       " 16,\n",
       " 17,\n",
       " 18,\n",
       " 19,\n",
       " 22,\n",
       " 23,\n",
       " 24,\n",
       " 25,\n",
       " 26,\n",
       " 27,\n",
       " 30,\n",
       " 31,\n",
       " 32,\n",
       " 33,\n",
       " 34,\n",
       " 35,\n",
       " 36,\n",
       " 37,\n",
       " 39,\n",
       " 40,\n",
       " 41,\n",
       " 42,\n",
       " 44,\n",
       " 45,\n",
       " 47,\n",
       " 48,\n",
       " 50,\n",
       " 52,\n",
       " 53,\n",
       " 54,\n",
       " 55,\n",
       " 56,\n",
       " 58,\n",
       " 59,\n",
       " 60,\n",
       " 61,\n",
       " 64,\n",
       " 67,\n",
       " 68,\n",
       " 69,\n",
       " 70,\n",
       " 71,\n",
       " 72,\n",
       " 73,\n",
       " 75,\n",
       " 76,\n",
       " 77,\n",
       " 78,\n",
       " 79,\n",
       " 80,\n",
       " 81,\n",
       " 83,\n",
       " 84,\n",
       " 85,\n",
       " 86,\n",
       " 87,\n",
       " 88,\n",
       " 89,\n",
       " 90,\n",
       " 91]"
      ]
     },
     "execution_count": 65,
     "metadata": {},
     "output_type": "execute_result"
    }
   ],
   "source": [
    "indeksy=list(np.arange(93)[np.asarray(np.abs(prec[0,:]), dtype=bool)])[1:]\n",
    "indeksy"
   ]
  },
  {
   "cell_type": "code",
   "execution_count": 73,
   "metadata": {},
   "outputs": [
    {
     "data": {
      "text/plain": [
       "[(-0.0022326426413428525, 1),\n",
       " (0.0432296172848803, 2),\n",
       " (0.0664667980997257, 4),\n",
       " (0.07752383184222376, 5),\n",
       " (0.030195098764351003, 8),\n",
       " (0.0302713239005269, 9),\n",
       " (0.06486761144392382, 11),\n",
       " (-0.0026660810358280465, 12),\n",
       " (-0.0015618718760657048, 13),\n",
       " (0.014851003429041438, 15),\n",
       " (0.02343628398799031, 16),\n",
       " (-0.055896583194405165, 17),\n",
       " (-0.010455848953522886, 18),\n",
       " (0.014233409416716506, 19),\n",
       " (-0.6072192987866816, 22),\n",
       " (-0.05527842459586343, 23),\n",
       " (-0.10588251343688743, 24),\n",
       " (-0.003751218060853808, 25),\n",
       " (-0.037200697705337675, 26),\n",
       " (0.014604783088812438, 27),\n",
       " (0.06490819922588205, 30),\n",
       " (0.07148932960336309, 31),\n",
       " (-0.0016928811354887327, 32),\n",
       " (-0.04156776125604818, 33),\n",
       " (-0.024823190054253572, 34),\n",
       " (-0.00481268137777883, 35),\n",
       " (-0.08810349046767482, 36),\n",
       " (0.03580685726171033, 37),\n",
       " (0.08894404785017769, 39),\n",
       " (0.019079106218655432, 40),\n",
       " (0.006775227738090055, 41),\n",
       " (0.0037410239396589965, 42),\n",
       " (-0.010288195821774848, 44),\n",
       " (-0.02171809690186788, 45),\n",
       " (-0.010394700006148935, 47),\n",
       " (-0.021160426632687523, 48),\n",
       " (-0.01397499573630459, 50),\n",
       " (0.006833652861743716, 52),\n",
       " (-0.09452771961307692, 53),\n",
       " (0.03086923269503864, 54),\n",
       " (-0.059121465474753665, 55),\n",
       " (-0.0066018899293774904, 56),\n",
       " (0.024227123903720837, 58),\n",
       " (0.034449558357431055, 59),\n",
       " (-0.024085861247379832, 60),\n",
       " (0.0309606760763063, 61),\n",
       " (-0.004425300400690525, 64),\n",
       " (0.005681304062450829, 67),\n",
       " (-0.01520508533036932, 68),\n",
       " (0.028291214780728987, 69),\n",
       " (0.05496507621581392, 70),\n",
       " (-0.0019133239562438233, 71),\n",
       " (-0.06208849792443746, 72),\n",
       " (0.003840841918062766, 73),\n",
       " (-0.031599773975804206, 75),\n",
       " (0.015473138927961929, 76),\n",
       " (0.027327328879230117, 77),\n",
       " (-0.009256932341633283, 78),\n",
       " (0.04912085314639926, 79),\n",
       " (0.0029943625806399285, 80),\n",
       " (-0.02069667736691299, 81),\n",
       " (-0.014104388527772405, 84),\n",
       " (-0.02959754187130369, 85),\n",
       " (-0.05539650764576014, 86),\n",
       " (-0.01297567006475903, 87),\n",
       " (-0.016213486754563303, 88),\n",
       " (0.0012267655734738625, 89),\n",
       " (0.03493681134586075, 90),\n",
       " (0.00012032874749981544, 91),\n",
       " (0.026845269629457245, 92)]"
      ]
     },
     "execution_count": 73,
     "metadata": {},
     "output_type": "execute_result"
    }
   ],
   "source": [
    "doSortowania=[]\n",
    "for w,i in zip(wartosci, indeksy):\n",
    "    # poprawiamy indeksy tak by odpowiadały tym z danych wejściowych\n",
    "    if i>=83:\n",
    "        i+=1\n",
    "    doSortowania.append((w,i))\n",
    "    #doSortowania.append((np.abs(w),w,i))\n",
    "doSortowania"
   ]
  },
  {
   "cell_type": "code",
   "execution_count": 74,
   "metadata": {},
   "outputs": [],
   "source": [
    "doSortowania.sort(reverse=True)"
   ]
  },
  {
   "cell_type": "code",
   "execution_count": 75,
   "metadata": {},
   "outputs": [
    {
     "data": {
      "text/plain": [
       "[(0.08894404785017769, 39),\n",
       " (0.07752383184222376, 5),\n",
       " (0.07148932960336309, 31),\n",
       " (0.0664667980997257, 4),\n",
       " (0.06490819922588205, 30),\n",
       " (0.06486761144392382, 11),\n",
       " (0.05496507621581392, 70),\n",
       " (0.04912085314639926, 79),\n",
       " (0.0432296172848803, 2),\n",
       " (0.03580685726171033, 37),\n",
       " (0.03493681134586075, 90),\n",
       " (0.034449558357431055, 59),\n",
       " (0.0309606760763063, 61),\n",
       " (0.03086923269503864, 54),\n",
       " (0.0302713239005269, 9)]"
      ]
     },
     "execution_count": 75,
     "metadata": {},
     "output_type": "execute_result"
    }
   ],
   "source": [
    "doSortowania=doSortowania[:15]\n",
    "doSortowania"
   ]
  },
  {
   "cell_type": "code",
   "execution_count": 69,
   "metadata": {
    "scrolled": true
   },
   "outputs": [
    {
     "name": "stdout",
     "output_type": "stream",
     "text": [
      "QueryId,VariableId\n",
      "1,22\n",
      "1,24\n",
      "1,53\n",
      "1,39\n",
      "1,36\n",
      "1,5\n",
      "1,31\n",
      "1,4\n",
      "1,30\n",
      "1,11\n",
      "1,72\n",
      "1,55\n",
      "1,17\n",
      "1,86\n",
      "1,23\n"
     ]
    }
   ],
   "source": [
    "print(\"QueryId,VariableId\")\n",
    "for wa,w,i in doSortowania:\n",
    "    print(1,i, sep=\",\")"
   ]
  },
  {
   "cell_type": "markdown",
   "metadata": {},
   "source": [
    "# Modele liniowe"
   ]
  },
  {
   "cell_type": "code",
   "execution_count": 77,
   "metadata": {},
   "outputs": [],
   "source": [
    "import sklearn.linear_model as skLin"
   ]
  },
  {
   "cell_type": "code",
   "execution_count": 109,
   "metadata": {},
   "outputs": [],
   "source": [
    "modelLasso=skLin.Lasso(alpha=0.0005)"
   ]
  },
  {
   "cell_type": "code",
   "execution_count": 111,
   "metadata": {},
   "outputs": [],
   "source": [
    "D=np.hstack((dane[:,1:22], dane[:,23:]))"
   ]
  },
  {
   "cell_type": "code",
   "execution_count": 112,
   "metadata": {},
   "outputs": [
    {
     "data": {
      "text/plain": [
       "Lasso(alpha=0.0005, copy_X=True, fit_intercept=True, max_iter=1000,\n",
       "      normalize=False, positive=False, precompute=False, random_state=None,\n",
       "      selection='cyclic', tol=0.0001, warm_start=False)"
      ]
     },
     "execution_count": 112,
     "metadata": {},
     "output_type": "execute_result"
    }
   ],
   "source": [
    "modelLasso.fit(X=D, y=dane[:,0])"
   ]
  },
  {
   "cell_type": "code",
   "execution_count": 113,
   "metadata": {},
   "outputs": [
    {
     "data": {
      "text/plain": [
       "array([ 0.    , -0.0658,  0.0141, -0.066 , -0.0726, -0.    ,  0.    , -0.0551, -0.0454, -0.0056, -0.1179,\n",
       "        0.0268, -0.    ,  0.    ,  0.0286, -0.005 ,  0.1052,  0.0232, -0.0203,  0.    ,  0.    ,  0.1297,\n",
       "        0.1553,  0.    ,  0.104 , -0.0129, -0.0158,  0.    , -0.0582, -0.1489,  0.    ,  0.0795,  0.001 ,\n",
       "        0.0016,  0.072 , -0.0182,  0.    , -0.0529, -0.0028, -0.0008, -0.0057, -0.    ,  0.0301,  0.0102,\n",
       "        0.    ,  0.0013,  0.0008,  0.0064,  0.0151, -0.    , -0.0033,  0.011 , -0.0196,  0.0299,  0.    ,\n",
       "        0.    , -0.0224, -0.0106,  0.0643, -0.001 ,  0.0104, -0.    ,  0.0019, -0.0016, -0.    , -0.0092,\n",
       "        0.0076, -0.0752, -0.0453,  0.0092,  0.0594, -0.    , -0.    ,  0.0391, -0.0131, -0.0028,  0.0249,\n",
       "       -0.0367, -0.    ,  0.0184, -0.    ,  0.0116,  0.    ,  0.1148,  0.017 ,  0.01  , -0.0039, -0.0606,\n",
       "       -0.0019,  0.    ,  0.0083], dtype=float32)"
      ]
     },
     "execution_count": 113,
     "metadata": {},
     "output_type": "execute_result"
    }
   ],
   "source": [
    "modelLasso.coef_"
   ]
  },
  {
   "cell_type": "code",
   "execution_count": 114,
   "metadata": {},
   "outputs": [],
   "source": [
    "wartosci=list(modelLasso.coef_[np.asarray(np.abs(modelLasso.coef_), dtype=bool)])\n",
    "\n",
    "indeksy=list(np.arange(1,92)[np.asarray(np.abs(modelLasso.coef_), dtype=bool)])\n",
    "\n",
    "doSortowania=[]\n",
    "for w,i in zip(wartosci, indeksy):\n",
    "    # poprawiamy indeksy tak by odpowiadały tym z danych wejściowych\n",
    "    if i>=22:\n",
    "        i+=1\n",
    "    if i>=83:\n",
    "        i+=1\n",
    "    doSortowania.append((np.abs(w),w,i))\n",
    "doSortowania.sort(reverse=True)\n",
    "doSortowania=doSortowania[:15]\n",
    "print(len(doSortowania))\n",
    "doSortowania"
   ]
  },
  {
   "cell_type": "code",
   "execution_count": 108,
   "metadata": {},
   "outputs": [
    {
     "name": "stdout",
     "output_type": "stream",
     "text": [
      "QueryId,VariableId\n",
      "1,22\n",
      "1,24\n",
      "1,23\n",
      "1,31\n",
      "1,86\n",
      "1,36\n",
      "1,17\n",
      "1,11\n",
      "1,30\n",
      "1,39\n",
      "1,70\n",
      "1,4\n",
      "1,2\n",
      "1,8\n",
      "1,5\n"
     ]
    }
   ],
   "source": [
    "print(\"QueryId,VariableId\")\n",
    "for wa,w,i in doSortowania:\n",
    "    print(1,i, sep=\",\")"
   ]
  },
  {
   "cell_type": "markdown",
   "metadata": {},
   "source": [
    "# Wybór cech"
   ]
  },
  {
   "cell_type": "code",
   "execution_count": 120,
   "metadata": {},
   "outputs": [],
   "source": [
    "import sklearn.feature_selection as skFS"
   ]
  },
  {
   "cell_type": "code",
   "execution_count": 121,
   "metadata": {},
   "outputs": [],
   "source": [
    "modelLasso=skLin.Lasso(alpha=0.0005)"
   ]
  },
  {
   "cell_type": "code",
   "execution_count": 122,
   "metadata": {},
   "outputs": [],
   "source": [
    "rfe=skFS.RFE(modelLasso, n_features_to_select=15)"
   ]
  },
  {
   "cell_type": "code",
   "execution_count": 123,
   "metadata": {},
   "outputs": [
    {
     "data": {
      "text/plain": [
       "RFE(estimator=Lasso(alpha=0.0005, copy_X=True, fit_intercept=True,\n",
       "                    max_iter=1000, normalize=False, positive=False,\n",
       "                    precompute=False, random_state=None, selection='cyclic',\n",
       "                    tol=0.0001, warm_start=False),\n",
       "    n_features_to_select=15, step=1, verbose=0)"
      ]
     },
     "execution_count": 123,
     "metadata": {},
     "output_type": "execute_result"
    }
   ],
   "source": [
    "rfe.fit(X=dane[:,1:], y=dane[:,0])"
   ]
  },
  {
   "cell_type": "code",
   "execution_count": 129,
   "metadata": {},
   "outputs": [
    {
     "data": {
      "text/plain": [
       "array([ 2,  4,  5, 11, 17, 22, 23, 24, 26, 30, 31, 36, 70, 85, 86])"
      ]
     },
     "execution_count": 129,
     "metadata": {},
     "output_type": "execute_result"
    }
   ],
   "source": [
    "indeksy=np.arange(1,93)[rfe.support_]\n",
    "for i in range(15):\n",
    "    if indeksy[i]>=83:\n",
    "        indeksy[i]+=1\n",
    "indeksy"
   ]
  },
  {
   "cell_type": "code",
   "execution_count": 130,
   "metadata": {},
   "outputs": [
    {
     "data": {
      "text/plain": [
       "array([78,  1, 67,  1,  1, 65, 62,  4,  9, 69,  1, 57, 76, 75, 23, 12,  1, 58, 22, 71, 77,  1,  1,  1, 28,\n",
       "        1, 41, 66, 68,  1,  1, 47,  2, 49, 55,  1, 14, 48,  3, 44, 53, 45, 63, 46, 20, 64, 54, 56, 50, 37,\n",
       "       61, 26, 35, 17,  5, 18, 38, 25, 19, 30, 51, 72, 74, 42, 52, 21, 40, 29, 10,  1, 43,  7, 73, 70, 11,\n",
       "       27, 16, 31,  6, 59, 15, 60, 36,  1,  1, 39, 24, 34,  8, 32, 13, 33])"
      ]
     },
     "execution_count": 130,
     "metadata": {},
     "output_type": "execute_result"
    }
   ],
   "source": [
    "rfe.ranking_"
   ]
  },
  {
   "cell_type": "code",
   "execution_count": 132,
   "metadata": {},
   "outputs": [
    {
     "data": {
      "text/plain": [
       "array([-0.0566, -0.0576, -0.0565, -0.0766,  0.0669,  1.2416,  0.0911,  0.1954,  0.0629, -0.0717, -0.0958,\n",
       "        0.0853, -0.0566,  0.0552,  0.0939], dtype=float32)"
      ]
     },
     "execution_count": 132,
     "metadata": {},
     "output_type": "execute_result"
    }
   ],
   "source": [
    "rfe.estimator_.coef_"
   ]
  },
  {
   "cell_type": "code",
   "execution_count": 133,
   "metadata": {},
   "outputs": [
    {
     "name": "stdout",
     "output_type": "stream",
     "text": [
      "15\n"
     ]
    },
    {
     "data": {
      "text/plain": [
       "[(1.2416394, 1.2416394, 22),\n",
       " (0.19537936, 0.19537936, 24),\n",
       " (0.09578537, -0.09578537, 31),\n",
       " (0.093853556, 0.093853556, 86),\n",
       " (0.0911038, 0.0911038, 23),\n",
       " (0.08526943, 0.08526943, 36),\n",
       " (0.07657109, -0.07657109, 11),\n",
       " (0.0717235, -0.0717235, 30),\n",
       " (0.06690038, 0.06690038, 17),\n",
       " (0.06291408, 0.06291408, 26),\n",
       " (0.057581656, -0.057581656, 4),\n",
       " (0.05662751, -0.05662751, 2),\n",
       " (0.05655155, -0.05655155, 70),\n",
       " (0.05647596, -0.05647596, 5),\n",
       " (0.055194266, 0.055194266, 85)]"
      ]
     },
     "execution_count": 133,
     "metadata": {},
     "output_type": "execute_result"
    }
   ],
   "source": [
    "doSortowania=[]\n",
    "for i,w in zip(indeksy, rfe.estimator_.coef_):\n",
    "    doSortowania.append((np.abs(w),w,i))\n",
    "doSortowania.sort(reverse=True)\n",
    "print(len(doSortowania))\n",
    "doSortowania"
   ]
  },
  {
   "cell_type": "code",
   "execution_count": 134,
   "metadata": {},
   "outputs": [
    {
     "name": "stdout",
     "output_type": "stream",
     "text": [
      "QueryId,VariableId\n",
      "1,22\n",
      "1,24\n",
      "1,31\n",
      "1,86\n",
      "1,23\n",
      "1,36\n",
      "1,11\n",
      "1,30\n",
      "1,17\n",
      "1,26\n",
      "1,4\n",
      "1,2\n",
      "1,70\n",
      "1,5\n",
      "1,85\n"
     ]
    }
   ],
   "source": [
    "print(\"QueryId,VariableId\")\n",
    "for wa,w,i in doSortowania:\n",
    "    print(1,i, sep=\",\")"
   ]
  },
  {
   "cell_type": "markdown",
   "metadata": {},
   "source": [
    "# LinearSVM"
   ]
  },
  {
   "cell_type": "code",
   "execution_count": 136,
   "metadata": {},
   "outputs": [],
   "source": [
    "import sklearn.svm as skSVM"
   ]
  },
  {
   "cell_type": "code",
   "execution_count": 143,
   "metadata": {},
   "outputs": [],
   "source": [
    "modelSVM=skSVM.LinearSVC(penalty=\"l1\",dual=False)"
   ]
  },
  {
   "cell_type": "code",
   "execution_count": 152,
   "metadata": {},
   "outputs": [
    {
     "data": {
      "text/plain": [
       "LinearSVC(C=1.0, class_weight=None, dual=False, fit_intercept=True,\n",
       "          intercept_scaling=1, loss='squared_hinge', max_iter=1000,\n",
       "          multi_class='ovr', penalty='l1', random_state=None, tol=0.0001,\n",
       "          verbose=0)"
      ]
     },
     "execution_count": 152,
     "metadata": {},
     "output_type": "execute_result"
    }
   ],
   "source": [
    "modelSVM.fit(X=dane[:,1:], y=np.asarray(dane[:,0], dtype=bool))"
   ]
  },
  {
   "cell_type": "code",
   "execution_count": 163,
   "metadata": {},
   "outputs": [
    {
     "name": "stdout",
     "output_type": "stream",
     "text": [
      "15\n"
     ]
    },
    {
     "data": {
      "text/plain": [
       "[(4.593915203377222, 4.593915203377222, 22),\n",
       " (0.6793687770568996, 0.6793687770568996, 24),\n",
       " (0.4813743893137401, 0.4813743893137401, 23),\n",
       " (0.46479311010294444, -0.46479311010294444, 31),\n",
       " (0.42342174604970056, -0.42342174604970056, 11),\n",
       " (0.42311601193168774, -0.42311601193168774, 70),\n",
       " (0.3231527854676277, 0.3231527854676277, 36),\n",
       " (0.32235888535106344, -0.32235888535106344, 2),\n",
       " (0.2989064815437076, 0.2989064815437076, 26),\n",
       " (0.280461518333034, -0.280461518333034, 39),\n",
       " (0.25961167257107853, -0.25961167257107853, 30),\n",
       " (0.23813851066021646, -0.23813851066021646, 4),\n",
       " (0.23448894222086408, 0.23448894222086408, 17),\n",
       " (0.21230980129394622, -0.21230980129394622, 5),\n",
       " (0.1636970581947517, -0.1636970581947517, 8)]"
      ]
     },
     "execution_count": 163,
     "metadata": {},
     "output_type": "execute_result"
    }
   ],
   "source": [
    "wartosci=list(modelSVM.coef_[0][np.asarray(np.abs(modelSVM.coef_[0]), dtype=bool)])\n",
    "\n",
    "indeksy=list(np.arange(1,93)[np.asarray(np.abs(modelSVM.coef_[0]), dtype=bool)])\n",
    "\n",
    "doSortowania=[]\n",
    "for w,i in zip(wartosci, indeksy):\n",
    "    # poprawiamy indeksy tak by odpowiadały tym z danych wejściowych\n",
    "    if i>=83:\n",
    "        i+=1\n",
    "    doSortowania.append((np.abs(w),w,i))\n",
    "doSortowania.sort(reverse=True)\n",
    "doSortowania=doSortowania[:15]\n",
    "print(len(doSortowania))\n",
    "doSortowania"
   ]
  },
  {
   "cell_type": "code",
   "execution_count": 164,
   "metadata": {},
   "outputs": [
    {
     "name": "stdout",
     "output_type": "stream",
     "text": [
      "QueryId,VariableId\n",
      "1,22\n",
      "1,24\n",
      "1,23\n",
      "1,31\n",
      "1,11\n",
      "1,70\n",
      "1,36\n",
      "1,2\n",
      "1,26\n",
      "1,39\n",
      "1,30\n",
      "1,4\n",
      "1,17\n",
      "1,5\n",
      "1,8\n"
     ]
    }
   ],
   "source": [
    "print(\"QueryId,VariableId\")\n",
    "for wa,w,i in doSortowania:\n",
    "    print(1,i, sep=\",\")"
   ]
  },
  {
   "cell_type": "markdown",
   "metadata": {},
   "source": [
    "# Inny preprocesing danych"
   ]
  },
  {
   "cell_type": "code",
   "execution_count": 43,
   "metadata": {},
   "outputs": [],
   "source": [
    "dane=pd.read_csv(\"./public_data.csv\")\n",
    "dane=dane.values"
   ]
  },
  {
   "cell_type": "code",
   "execution_count": 44,
   "metadata": {},
   "outputs": [
    {
     "data": {
      "text/plain": [
       "array(['c0', 'c1', 'c10', 'c11', 'c12', 'c13', 'c14', 'c15', 'c16', 'c17', 'c18', 'c19', 'c2', 'c20', 'c21',\n",
       "       'c22', 'c23', 'c24', 'c25', 'c26', 'c27', 'c3', 'c4', 'c5', 'c6', 'c7', 'c8', 'c9'], dtype=object)"
      ]
     },
     "execution_count": 44,
     "metadata": {},
     "output_type": "execute_result"
    }
   ],
   "source": [
    "np.unique(dane[:,34])"
   ]
  },
  {
   "cell_type": "code",
   "execution_count": 45,
   "metadata": {},
   "outputs": [],
   "source": [
    "for i in range(34,73):\n",
    "    kodowanie={}\n",
    "    for j in range(1021):\n",
    "        napis=dane[j,i]\n",
    "        if napis in kodowanie:\n",
    "            kodowanie[napis]+=1\n",
    "        else:\n",
    "            kodowanie[napis]=1\n",
    "    lista=list(zip(list(kodowanie.values()), list(kodowanie.keys())))\n",
    "    lista.sort(reverse=True)\n",
    "    kody={}\n",
    "    j=0\n",
    "    for w,k in lista:\n",
    "        kody[k]=j\n",
    "        j+=1\n",
    "    for j in range(1021):\n",
    "        napis=dane[j,i]\n",
    "        dane[j,i]=kody[napis]"
   ]
  },
  {
   "cell_type": "code",
   "execution_count": 46,
   "metadata": {},
   "outputs": [
    {
     "data": {
      "text/plain": [
       "array([0, 1, 2, 3, 4, 5, 6, 7, 8, 9, 10, 11, 12, 13, 14, 15, 16, 17, 18, 19, 20, 21, 22, 23, 24, 25, 26, 27],\n",
       "      dtype=object)"
      ]
     },
     "execution_count": 46,
     "metadata": {},
     "output_type": "execute_result"
    }
   ],
   "source": [
    "np.unique(dane[:,34])"
   ]
  },
  {
   "cell_type": "code",
   "execution_count": 47,
   "metadata": {},
   "outputs": [],
   "source": [
    "dane=np.asarray(dane, dtype=np.float64)"
   ]
  },
  {
   "cell_type": "code",
   "execution_count": 48,
   "metadata": {},
   "outputs": [],
   "source": [
    "import sklearn.preprocessing as skPre"
   ]
  },
  {
   "cell_type": "code",
   "execution_count": 110,
   "metadata": {},
   "outputs": [
    {
     "data": {
      "text/plain": [
       "array([[-0.4305,  0.6952,  0.7651, ...,  2.2615,  0.1761,  0.4788],\n",
       "       [-0.4305, -0.2343,  0.8496, ...,  1.4963, -0.0447, -0.4486],\n",
       "       [-0.4305, -0.3993, -1.3642, ...,  0.8982, -0.6004, -0.6466],\n",
       "       ...,\n",
       "       [-0.4305,  1.2555, -0.4727, ...,  0.3122,  0.2859,  1.6712],\n",
       "       [-0.4305,  0.0639,  0.2209, ...,  0.4319,  1.4512, -0.3939],\n",
       "       [-0.4305,  1.3313, -0.6462, ..., -1.3245,  0.5638, -0.2381]])"
      ]
     },
     "execution_count": 110,
     "metadata": {},
     "output_type": "execute_result"
    }
   ],
   "source": [
    "skPre.scale(dane[:,:34], copy=False)"
   ]
  },
  {
   "cell_type": "code",
   "execution_count": 50,
   "metadata": {},
   "outputs": [],
   "source": [
    "dane=np.hstack((dane[:,:83],dane[:,84:]))"
   ]
  },
  {
   "cell_type": "markdown",
   "metadata": {},
   "source": [
    "# Lasso automatyczne"
   ]
  },
  {
   "cell_type": "code",
   "execution_count": 87,
   "metadata": {},
   "outputs": [
    {
     "name": "stderr",
     "output_type": "stream",
     "text": [
      "/home/i309016/.local/lib/python3.5/site-packages/sklearn/model_selection/_split.py:1978: FutureWarning: The default value of cv will change from 3 to 5 in version 0.22. Specify it explicitly to silence this warning.\n",
      "  warnings.warn(CV_WARNING, FutureWarning)\n",
      "/home/i309016/.local/lib/python3.5/site-packages/sklearn/covariance/graph_lasso_.py:238: RuntimeWarning: divide by zero encountered in double_scalars\n",
      "  - np.dot(covariance_[indices != idx, idx], coefs)))\n",
      "/home/i309016/.local/lib/python3.5/site-packages/sklearn/covariance/graph_lasso_.py:240: RuntimeWarning: invalid value encountered in multiply\n",
      "  * coefs)\n",
      "/home/i309016/.local/lib/python3.5/site-packages/sklearn/covariance/graph_lasso_.py:242: RuntimeWarning: invalid value encountered in multiply\n",
      "  * coefs)\n",
      "/home/i309016/.local/lib/python3.5/site-packages/sklearn/covariance/graph_lasso_.py:238: RuntimeWarning: divide by zero encountered in double_scalars\n",
      "  - np.dot(covariance_[indices != idx, idx], coefs)))\n",
      "/home/i309016/.local/lib/python3.5/site-packages/sklearn/covariance/graph_lasso_.py:240: RuntimeWarning: invalid value encountered in multiply\n",
      "  * coefs)\n",
      "/home/i309016/.local/lib/python3.5/site-packages/sklearn/covariance/graph_lasso_.py:242: RuntimeWarning: invalid value encountered in multiply\n",
      "  * coefs)\n",
      "/home/i309016/.local/lib/python3.5/site-packages/sklearn/covariance/graph_lasso_.py:238: RuntimeWarning: divide by zero encountered in double_scalars\n",
      "  - np.dot(covariance_[indices != idx, idx], coefs)))\n",
      "/home/i309016/.local/lib/python3.5/site-packages/sklearn/covariance/graph_lasso_.py:240: RuntimeWarning: invalid value encountered in multiply\n",
      "  * coefs)\n",
      "/home/i309016/.local/lib/python3.5/site-packages/sklearn/covariance/graph_lasso_.py:242: RuntimeWarning: invalid value encountered in multiply\n",
      "  * coefs)\n",
      "/home/i309016/.local/lib/python3.5/site-packages/sklearn/covariance/graph_lasso_.py:238: RuntimeWarning: divide by zero encountered in double_scalars\n",
      "  - np.dot(covariance_[indices != idx, idx], coefs)))\n",
      "/home/i309016/.local/lib/python3.5/site-packages/sklearn/covariance/graph_lasso_.py:240: RuntimeWarning: invalid value encountered in multiply\n",
      "  * coefs)\n",
      "/home/i309016/.local/lib/python3.5/site-packages/sklearn/covariance/graph_lasso_.py:242: RuntimeWarning: invalid value encountered in multiply\n",
      "  * coefs)\n"
     ]
    },
    {
     "data": {
      "text/plain": [
       "GraphicalLassoCV(alphas=4, assume_centered=False, cv='warn', enet_tol=0.0001,\n",
       "                 max_iter=100, mode='cd', n_jobs=None, n_refinements=4,\n",
       "                 tol=0.0001, verbose=False)"
      ]
     },
     "execution_count": 87,
     "metadata": {},
     "output_type": "execute_result"
    }
   ],
   "source": [
    "model=skCov.GraphicalLassoCV()\n",
    "\n",
    "model.fit(dane)"
   ]
  },
  {
   "cell_type": "code",
   "execution_count": 114,
   "metadata": {},
   "outputs": [],
   "source": [
    "macierzKor=np.corrcoef(dane, rowvar=False)"
   ]
  },
  {
   "cell_type": "code",
   "execution_count": 120,
   "metadata": {},
   "outputs": [],
   "source": [
    "kow,prec=skCov.graphical_lasso(macierzKor,0.056)"
   ]
  },
  {
   "cell_type": "code",
   "execution_count": 121,
   "metadata": {},
   "outputs": [
    {
     "data": {
      "text/plain": [
       "15"
      ]
     },
     "execution_count": 121,
     "metadata": {},
     "output_type": "execute_result"
    }
   ],
   "source": [
    "np.sum(np.asarray(np.abs(prec[0,:]), dtype=bool))"
   ]
  },
  {
   "cell_type": "code",
   "execution_count": 122,
   "metadata": {},
   "outputs": [
    {
     "data": {
      "text/plain": [
       "(93, 93)"
      ]
     },
     "execution_count": 122,
     "metadata": {},
     "output_type": "execute_result"
    }
   ],
   "source": [
    "prec.shape"
   ]
  },
  {
   "cell_type": "code",
   "execution_count": 123,
   "metadata": {
    "scrolled": true
   },
   "outputs": [],
   "source": [
    "wartosci=list(prec[0,:][np.asarray(np.abs(prec[0,:]), dtype=bool)])[1:]\n",
    "indeksy=list(np.arange(93)[np.asarray(np.abs(prec[0,:]), dtype=bool)])[1:]"
   ]
  },
  {
   "cell_type": "code",
   "execution_count": 124,
   "metadata": {},
   "outputs": [],
   "source": [
    "doSortowania=[]\n",
    "for w,i in zip(wartosci, indeksy):\n",
    "    # poprawiamy indeksy tak by odpowiadały tym z danych wejściowych\n",
    "    if i>=83:\n",
    "        i+=1\n",
    "    #doSortowania.append((w,i))\n",
    "    doSortowania.append((np.abs(w),w,i))"
   ]
  },
  {
   "cell_type": "code",
   "execution_count": 125,
   "metadata": {},
   "outputs": [
    {
     "data": {
      "text/plain": [
       "[(0.5138275326313793, -0.5138275326313793, 22),\n",
       " (0.0432310096302767, -0.0432310096302767, 53),\n",
       " (0.041041142642723565, -0.041041142642723565, 36),\n",
       " (0.02568578171787646, 0.02568578171787646, 4),\n",
       " (0.016040170468741524, -0.016040170468741524, 23),\n",
       " (0.015770150073914826, 0.015770150073914826, 31),\n",
       " (0.015598149354929149, 0.015598149354929149, 11),\n",
       " (0.014494831157320946, -0.014494831157320946, 26),\n",
       " (0.013904607033145984, -0.013904607033145984, 17),\n",
       " (0.013498466039414353, -0.013498466039414353, 86),\n",
       " (0.009106039752958735, -0.009106039752958735, 60),\n",
       " (0.007746970791252258, 0.007746970791252258, 79),\n",
       " (0.0036282658346042025, -0.0036282658346042025, 12),\n",
       " (0.0008455591579932965, -0.0008455591579932965, 33)]"
      ]
     },
     "execution_count": 125,
     "metadata": {},
     "output_type": "execute_result"
    }
   ],
   "source": [
    "doSortowania.sort(reverse=True)\n",
    "\n",
    "doSortowania=doSortowania[:15]\n",
    "doSortowania"
   ]
  },
  {
   "cell_type": "code",
   "execution_count": 126,
   "metadata": {
    "scrolled": true
   },
   "outputs": [
    {
     "name": "stdout",
     "output_type": "stream",
     "text": [
      "QueryId,VariableId\n",
      "1,22\n",
      "1,53\n",
      "1,36\n",
      "1,4\n",
      "1,23\n",
      "1,31\n",
      "1,11\n",
      "1,26\n",
      "1,17\n",
      "1,86\n",
      "1,60\n",
      "1,79\n",
      "1,12\n",
      "1,33\n"
     ]
    }
   ],
   "source": [
    "print(\"QueryId,VariableId\")\n",
    "for wa,w,i in doSortowania:\n",
    "    print(1,i, sep=\",\")"
   ]
  },
  {
   "cell_type": "code",
   "execution_count": null,
   "metadata": {},
   "outputs": [],
   "source": []
  }
 ],
 "metadata": {
  "kernelspec": {
   "display_name": "Python 3",
   "language": "python",
   "name": "python3"
  },
  "language_info": {
   "codemirror_mode": {
    "name": "ipython",
    "version": 3
   },
   "file_extension": ".py",
   "mimetype": "text/x-python",
   "name": "python",
   "nbconvert_exporter": "python",
   "pygments_lexer": "ipython3",
   "version": "3.5.2"
  }
 },
 "nbformat": 4,
 "nbformat_minor": 2
}
