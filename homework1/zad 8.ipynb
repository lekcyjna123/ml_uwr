{
 "cells": [
  {
   "cell_type": "markdown",
   "metadata": {},
   "source": [
    "$\\theta(x,y)$ is the unsigned angle between $x$ and $y$.\n",
    "\n",
    "#### a\n",
    "\n",
    "Take vectors $u$, $v$, $x$. Then:\n",
    "- angle bteween $u$ and $u$ is 0.\n",
    "- because theta is unsigned: $\\theta(u,v) = \\theta(v,u)$\n",
    "- $\\theta(u,x) <= \\theta(u,v) + \\theta (v,x)$\n",
    "\n",
    "#### b\n",
    "\n",
    "$h(x)=sgn(x \\dot p)=sgn(\\frac{x \\cdot p}{||x||*||p||}*||x||*||p||)=sgn(cos(\\theta(x,p))*||x||*||p||)$\n",
    "\n",
    "because $||x||,||p||>=0$\n",
    "\n",
    "let $cos(x,p) \\text{ be } (cos(\\theta(x,p))$\n",
    "\n",
    "$h(x)=sgn(cos(x,p))$\n",
    "\n",
    "analogicaly:\n",
    "\n",
    "$h(y)=sgn(cos(y,p))$\n",
    "\n",
    "So:\n",
    "\n",
    "$h(x)=h(y) <=> (cos(x,p)>0 \\land cos(y,p)>0 ) \\lor (cos(x,p)<0 \\land cos(y,p)<0)$"
   ]
  },
  {
   "cell_type": "markdown",
   "metadata": {},
   "source": [
    "Take first case:\n",
    "\n",
    "$cos(x,p)>0 \\land cos(y,p)>0$\n",
    "\n",
    "$cos(\\alpha) >0$ for $\\alpha \\in (0,90) \\cup (270,360)$ but here we use unsigned angle, so $\\alpha \\in (0,90)$"
   ]
  },
  {
   "cell_type": "markdown",
   "metadata": {},
   "source": [
    "#### c"
   ]
  },
  {
   "cell_type": "markdown",
   "metadata": {},
   "source": [
    "Take two vectors $h_1, h_2$ if we don't change $d_1,d_2$ we have to compute join ppb of two events $p_1$ and two events $p_2$, so we have $p_1^2$ and $p_2^2$."
   ]
  },
  {
   "cell_type": "code",
   "execution_count": null,
   "metadata": {},
   "outputs": [],
   "source": []
  }
 ],
 "metadata": {
  "kernelspec": {
   "display_name": "Python 3",
   "language": "python",
   "name": "python3"
  },
  "language_info": {
   "codemirror_mode": {
    "name": "ipython",
    "version": 3
   },
   "file_extension": ".py",
   "mimetype": "text/x-python",
   "name": "python",
   "nbconvert_exporter": "python",
   "pygments_lexer": "ipython3",
   "version": "3.8.6"
  }
 },
 "nbformat": 4,
 "nbformat_minor": 4
}
